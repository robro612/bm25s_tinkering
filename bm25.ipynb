{
 "cells": [
  {
   "cell_type": "code",
   "execution_count": 1,
   "metadata": {},
   "outputs": [
    {
     "name": "stderr",
     "output_type": "stream",
     "text": [
      "/workspace/miniforge3/envs/bm25/lib/python3.10/site-packages/tqdm/auto.py:21: TqdmWarning: IProgress not found. Please update jupyter and ipywidgets. See https://ipywidgets.readthedocs.io/en/stable/user_install.html\n",
      "  from .autonotebook import tqdm as notebook_tqdm\n"
     ]
    }
   ],
   "source": [
    "import bm25s\n",
    "import Stemmer  # optional: for stemming\n",
    "import ir_datasets\n",
    "import pyterrier as pt\n",
    "import polars as pl\n",
    "from bidict import bidict"
   ]
  },
  {
   "cell_type": "code",
   "execution_count": 2,
   "metadata": {},
   "outputs": [
    {
     "name": "stderr",
     "output_type": "stream",
     "text": [
      "PyTerrier 0.10.1 has loaded Terrier 5.9 (built by craigm on 2024-05-02 17:40) and terrier-helper 0.0.8\n",
      "\n",
      "No etc/terrier.properties, using terrier.default.properties for bootstrap configuration.\n"
     ]
    }
   ],
   "source": [
    "pt.init()"
   ]
  },
  {
   "cell_type": "code",
   "execution_count": null,
   "metadata": {},
   "outputs": [],
   "source": [
    "trec_covid = ir_datasets.load(\"beir/trec-covid\")"
   ]
  },
  {
   "cell_type": "code",
   "execution_count": null,
   "metadata": {},
   "outputs": [],
   "source": [
    "qrels = pl.DataFrame(data=trec_covid.qrels_iter())\n",
    "collection = pl.DataFrame(data=trec_covid.docs_iter())\n",
    "queries = pl.DataFrame(data=trec_covid.queries_iter())"
   ]
  },
  {
   "cell_type": "code",
   "execution_count": null,
   "metadata": {},
   "outputs": [],
   "source": [
    "qrels.head()"
   ]
  },
  {
   "cell_type": "code",
   "execution_count": null,
   "metadata": {},
   "outputs": [],
   "source": [
    "queries.head()"
   ]
  },
  {
   "cell_type": "code",
   "execution_count": null,
   "metadata": {},
   "outputs": [],
   "source": [
    "collection.head()"
   ]
  },
  {
   "cell_type": "code",
   "execution_count": null,
   "metadata": {},
   "outputs": [],
   "source": [
    "# Create your corpus here\n",
    "corpus = collection[\"text\"]\n",
    "\n",
    "# optional: create a stemmer\n",
    "stemmer = Stemmer.Stemmer(\"english\")\n",
    "\n",
    "# Tokenize the corpus and only keep the ids (faster and saves memory)\n",
    "corpus_tokens = bm25s.tokenize(corpus, stopwords=\"en\", stemmer=stemmer)"
   ]
  },
  {
   "cell_type": "code",
   "execution_count": null,
   "metadata": {},
   "outputs": [],
   "source": [
    "# Create the BM25 model and index the corpus\n",
    "retriever = bm25s.BM25()\n",
    "retriever.index(corpus_tokens)"
   ]
  },
  {
   "cell_type": "code",
   "execution_count": null,
   "metadata": {},
   "outputs": [],
   "source": [
    "query_tokens = bm25s.tokenize(queries[\"text\"], stopwords=\"en\", stemmer=stemmer)"
   ]
  },
  {
   "cell_type": "code",
   "execution_count": null,
   "metadata": {},
   "outputs": [],
   "source": [
    "docs, scores = retriever.retrieve(query_tokens, k=1000)"
   ]
  },
  {
   "cell_type": "code",
   "execution_count": null,
   "metadata": {},
   "outputs": [],
   "source": [
    "docs"
   ]
  },
  {
   "cell_type": "code",
   "execution_count": null,
   "metadata": {},
   "outputs": [],
   "source": [
    "query = 2\n",
    "num_docs = 10"
   ]
  },
  {
   "cell_type": "code",
   "execution_count": null,
   "metadata": {},
   "outputs": [],
   "source": [
    "docs = docs[query, :num_docs]"
   ]
  },
  {
   "cell_type": "code",
   "execution_count": null,
   "metadata": {},
   "outputs": [],
   "source": [
    "queries.item(query, \"text\")"
   ]
  },
  {
   "cell_type": "code",
   "execution_count": null,
   "metadata": {},
   "outputs": [],
   "source": [
    "collection[docs][\"text\"].to_list()"
   ]
  },
  {
   "cell_type": "code",
   "execution_count": null,
   "metadata": {},
   "outputs": [],
   "source": []
  },
  {
   "cell_type": "code",
   "execution_count": null,
   "metadata": {},
   "outputs": [],
   "source": [
    "x = trec_covid.docs_iter()"
   ]
  },
  {
   "cell_type": "code",
   "execution_count": null,
   "metadata": {},
   "outputs": [],
   "source": [
    "for y in x:\n",
    "    pass"
   ]
  },
  {
   "cell_type": "code",
   "execution_count": 5,
   "metadata": {},
   "outputs": [],
   "source": [
    "from typing import Iterable, NamedTuple, List\n",
    "from itertools import tee\n",
    "from bidict import bidict\n",
    "import pandas as pd\n",
    "\n",
    "\n",
    "class BM25s(pt.Transformer):\n",
    "    def __init__(self, dataset, k: int = 1000):\n",
    "        #TODO: assert that doc_id and text are in the dataset's NamedTuple\n",
    "        self.idx_to_docid = {\n",
    "            idx : doc[\"docno\"] \n",
    "            for idx, doc in enumerate(dataset.get_corpus_iter(verbose=False)) \n",
    "        }\n",
    "        self.k = k\n",
    "        \n",
    "        self.stemmer = Stemmer.Stemmer(\"english\")\n",
    "        corpus_tokens = bm25s.tokenize(\n",
    "            texts=(doc[\"text\"] for doc in dataset.get_corpus_iter(verbose=False)),\n",
    "            stopwords=\"english\",\n",
    "            stemmer=self.stemmer,\n",
    "        )\n",
    "        self.retriever = bm25s.BM25()\n",
    "        self.retriever.index(corpus_tokens)\n",
    "    \n",
    "    def transform(self, topics : pd.DataFrame) -> pd.DataFrame:\n",
    "        idx_to_qid = {idx : qid for idx, qid in enumerate(topics[\"qid\"])}\n",
    "        query_tokens = bm25s.tokenize(topics[\"query\"], stemmer=self.stemmer)\n",
    "        results, scores = self.retriever.retrieve(query_tokens, k=self.k)\n",
    "\n",
    "        return pd.DataFrame([\n",
    "            {\"qid\": idx_to_qid[q_idx], \"docno\": self.idx_to_docid[doc_idx], \"score\": score, \"rank\": rank}\n",
    "            for q_idx, (doc_idxs, doc_scores) in enumerate(zip(results, scores))\n",
    "            for rank, (doc_idx, score) in enumerate(zip(doc_idxs, doc_scores))\n",
    "        ])\n"
   ]
  },
  {
   "cell_type": "code",
   "execution_count": 13,
   "metadata": {},
   "outputs": [],
   "source": [
    "dataset = pt.get_dataset(\"irds:beir/fiqa\")"
   ]
  },
  {
   "cell_type": "code",
   "execution_count": 14,
   "metadata": {},
   "outputs": [
    {
     "name": "stderr",
     "output_type": "stream",
     "text": [
      "[INFO] [starting] building docstore\n",
      "[INFO] [starting] opening zip file                                              \n",
      "[INFO] If you have a local copy of https://public.ukp.informatik.tu-darmstadt.de/thakur/BEIR/datasets/fiqa.zip, you can symlink it here to avoid downloading it again: /root/.ir_datasets/downloads/17918ed23cd04fb15047f73e6c3bd9d9\n",
      "[INFO] [starting] https://public.ukp.informatik.tu-darmstadt.de/thakur/BEIR/datasets/fiqa.zip\n",
      "                                                                                \n",
      "\u001b[A                                                                                                                    [INFO] [finished] https://public.ukp.informatik.tu-darmstadt.de/thakur/BEIR/datasets/fiqa.zip: [00:01] [17.9MB] [16.7MB/s]\n",
      "[INFO] [finished] opening zip file [2.06s]                                      \n",
      "docs_iter: 100%|██████████████████████| 57638/57638 [00:03<00:00, 15772.66doc/s]\n",
      "[INFO] [finished] docs_iter: [00:03] [57638doc] [15768.52doc/s]\n",
      "[INFO] [finished] building docstore [3.66s]\n",
      "                                                                              \r"
     ]
    }
   ],
   "source": [
    "bm25s_transform = BM25s(dataset, k=1000);"
   ]
  },
  {
   "cell_type": "code",
   "execution_count": 15,
   "metadata": {},
   "outputs": [
    {
     "name": "stderr",
     "output_type": "stream",
     "text": [
      "[INFO] [starting] opening zip file\n",
      "[INFO] [finished] opening zip file [1ms]\n"
     ]
    },
    {
     "ename": "AssertionError",
     "evalue": "beir/fiqa doesn't support get_qrels",
     "output_type": "error",
     "traceback": [
      "\u001b[0;31m---------------------------------------------------------------------------\u001b[0m",
      "\u001b[0;31mAssertionError\u001b[0m                            Traceback (most recent call last)",
      "Cell \u001b[0;32mIn[15], line 6\u001b[0m\n\u001b[1;32m      1\u001b[0m \u001b[38;5;28;01mfrom\u001b[39;00m \u001b[38;5;21;01mpyterrier\u001b[39;00m\u001b[38;5;21;01m.\u001b[39;00m\u001b[38;5;21;01mmeasures\u001b[39;00m \u001b[38;5;28;01mimport\u001b[39;00m nDCG\n\u001b[1;32m      3\u001b[0m pt\u001b[38;5;241m.\u001b[39mExperiment(\n\u001b[1;32m      4\u001b[0m     [bm25s_transform],\n\u001b[1;32m      5\u001b[0m     dataset\u001b[38;5;241m.\u001b[39mget_topics(),\n\u001b[0;32m----> 6\u001b[0m     \u001b[43mdataset\u001b[49m\u001b[38;5;241;43m.\u001b[39;49m\u001b[43mget_qrels\u001b[49m\u001b[43m(\u001b[49m\u001b[43m)\u001b[49m,\n\u001b[1;32m      7\u001b[0m     eval_metrics\u001b[38;5;241m=\u001b[39m[nDCG\u001b[38;5;241m@\u001b[39m\u001b[38;5;241m10\u001b[39m],\n\u001b[1;32m      8\u001b[0m     names\u001b[38;5;241m=\u001b[39m[\u001b[38;5;124m\"\u001b[39m\u001b[38;5;124mBM25\u001b[39m\u001b[38;5;124m\"\u001b[39m],\n\u001b[1;32m      9\u001b[0m )\n",
      "File \u001b[0;32m/workspace/miniforge3/envs/bm25/lib/python3.10/site-packages/pyterrier/datasets.py:484\u001b[0m, in \u001b[0;36mIRDSDataset.get_qrels\u001b[0;34m(self, variant)\u001b[0m\n\u001b[1;32m    480\u001b[0m \u001b[38;5;250m\u001b[39m\u001b[38;5;124;03m\"\"\" \u001b[39;00m\n\u001b[1;32m    481\u001b[0m \u001b[38;5;124;03m    Returns the qrels, as a dataframe, ready for evaluation.\u001b[39;00m\n\u001b[1;32m    482\u001b[0m \u001b[38;5;124;03m\"\"\"\u001b[39;00m\n\u001b[1;32m    483\u001b[0m ds \u001b[38;5;241m=\u001b[39m \u001b[38;5;28mself\u001b[39m\u001b[38;5;241m.\u001b[39mirds_ref()\n\u001b[0;32m--> 484\u001b[0m \u001b[38;5;28;01massert\u001b[39;00m ds\u001b[38;5;241m.\u001b[39mhas_qrels(), \u001b[38;5;124mf\u001b[39m\u001b[38;5;124m\"\u001b[39m\u001b[38;5;132;01m{\u001b[39;00m\u001b[38;5;28mself\u001b[39m\u001b[38;5;241m.\u001b[39m_irds_id\u001b[38;5;132;01m}\u001b[39;00m\u001b[38;5;124m doesn\u001b[39m\u001b[38;5;124m'\u001b[39m\u001b[38;5;124mt support get_qrels\u001b[39m\u001b[38;5;124m\"\u001b[39m\n\u001b[1;32m    485\u001b[0m qrelcls \u001b[38;5;241m=\u001b[39m ds\u001b[38;5;241m.\u001b[39mqrels_cls()\n\u001b[1;32m    486\u001b[0m qrel_fields \u001b[38;5;241m=\u001b[39m [f \u001b[38;5;28;01mfor\u001b[39;00m f \u001b[38;5;129;01min\u001b[39;00m qrelcls\u001b[38;5;241m.\u001b[39m_fields \u001b[38;5;28;01mif\u001b[39;00m f \u001b[38;5;129;01mnot\u001b[39;00m \u001b[38;5;129;01min\u001b[39;00m (\u001b[38;5;124m'\u001b[39m\u001b[38;5;124mquery_id\u001b[39m\u001b[38;5;124m'\u001b[39m, \u001b[38;5;124m'\u001b[39m\u001b[38;5;124mdoc_id\u001b[39m\u001b[38;5;124m'\u001b[39m, \u001b[38;5;124m'\u001b[39m\u001b[38;5;124miteration\u001b[39m\u001b[38;5;124m'\u001b[39m)]\n",
      "\u001b[0;31mAssertionError\u001b[0m: beir/fiqa doesn't support get_qrels"
     ]
    }
   ],
   "source": [
    "from pyterrier.measures import nDCG\n",
    "\n",
    "pt.Experiment(\n",
    "    [bm25s_transform],\n",
    "    dataset.get_topics(),\n",
    "    dataset.get_qrels(),\n",
    "    eval_metrics=[nDCG@10],\n",
    "    names=[\"BM25\"],\n",
    ")"
   ]
  },
  {
   "cell_type": "code",
   "execution_count": null,
   "metadata": {},
   "outputs": [],
   "source": []
  }
 ],
 "metadata": {
  "kernelspec": {
   "display_name": "bm25",
   "language": "python",
   "name": "python3"
  },
  "language_info": {
   "codemirror_mode": {
    "name": "ipython",
    "version": 3
   },
   "file_extension": ".py",
   "mimetype": "text/x-python",
   "name": "python",
   "nbconvert_exporter": "python",
   "pygments_lexer": "ipython3",
   "version": "3.10.14"
  }
 },
 "nbformat": 4,
 "nbformat_minor": 2
}
